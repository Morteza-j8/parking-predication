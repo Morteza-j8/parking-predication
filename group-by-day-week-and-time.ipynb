{
 "cells": [
  {
   "cell_type": "code",
   "execution_count": 1,
   "metadata": {},
   "outputs": [],
   "source": [
    "import pandas as pd\n",
    "\n",
    "df = pd.read_excel('data.xlsx')"
   ]
  },
  {
   "cell_type": "code",
   "execution_count": 3,
   "metadata": {},
   "outputs": [
    {
     "name": "stdout",
     "output_type": "stream",
     "text": [
      "PR_Anlage_ID\n",
      "Datum/Uhrzeit\n",
      "Freie Parkplaetze\n",
      "Gesamtzahl Parkplaetze\n",
      "Besetzte Parkplaetze\n",
      "Gesamt Familienparkplaetze\n",
      "Freie Familienparkplaetze\n",
      "Gesamt Frauenparkplaetze\n",
      "Freie Frauenparkplaetze\n",
      "Gesamt Behindertenparkplaetze\n",
      "Freie Behindertenparkplaetze\n",
      "Gesamt E-mobility Parkplaetze\n",
      "Freie E-mobility Parkplaetze\n",
      "Gesamt Standardparkplaetze\n",
      "Freie Standardparkplaetze\n"
     ]
    }
   ],
   "source": [
    "for u in range(len(df.columns)):\n",
    "    print(df.columns[u])"
   ]
  },
  {
   "cell_type": "code",
   "execution_count": 6,
   "metadata": {},
   "outputs": [
    {
     "data": {
      "text/plain": [
       "3"
      ]
     },
     "execution_count": 6,
     "metadata": {},
     "output_type": "execute_result"
    }
   ],
   "source": [
    "df['Datum/Uhrzeit'][0].weekday()"
   ]
  },
  {
   "cell_type": "code",
   "execution_count": 5,
   "metadata": {},
   "outputs": [
    {
     "data": {
      "text/plain": [
       "40"
      ]
     },
     "execution_count": 5,
     "metadata": {},
     "output_type": "execute_result"
    }
   ],
   "source": [
    "df['Datum/Uhrzeit'][0].time().minute"
   ]
  },
  {
   "cell_type": "code",
   "execution_count": 12,
   "metadata": {},
   "outputs": [
    {
     "data": {
      "text/plain": [
       "'Monday'"
      ]
     },
     "execution_count": 12,
     "metadata": {},
     "output_type": "execute_result"
    }
   ],
   "source": [
    "df['Datum/Uhrzeit'][0].time().strftime('%A')"
   ]
  },
  {
   "cell_type": "code",
   "execution_count": 6,
   "metadata": {},
   "outputs": [
    {
     "data": {
      "text/plain": [
       "RangeIndex(start=0, stop=34280, step=1)"
      ]
     },
     "execution_count": 6,
     "metadata": {},
     "output_type": "execute_result"
    }
   ],
   "source": [
    "df.index"
   ]
  },
  {
   "cell_type": "code",
   "execution_count": 19,
   "metadata": {},
   "outputs": [],
   "source": [
    "mp = dict()\n",
    "\n",
    "for i in df.index:\n",
    "    if df['PR_Anlage_ID'][i] == 1:\n",
    "        \n",
    "#        minute = '';\n",
    "        hour = '';\n",
    "        \n",
    "        \n",
    "        if df['Datum/Uhrzeit'][i].time().hour < 10:\n",
    "            hour = '0'\n",
    "        hour = hour + str(df['Datum/Uhrzeit'][i].time().hour)\n",
    "        \n",
    "#        if df['Datum/Uhrzeit'][i].time().minute < 10:\n",
    "#            minute = '0'\n",
    "#        minute = minute + str(df['Datum/Uhrzeit'][i].time().minute)\n",
    "        \n",
    "        \n",
    "#        key = str(df['Datum/Uhrzeit'][i].weekday()) + \"-\" + hour  #+ \":\" + minute\n",
    "        key = df['Datum/Uhrzeit'][i].strftime('%A') + \" at \" + hour \n",
    "        \n",
    "        if key in mp:\n",
    "            value = mp[key]\n",
    "        else:\n",
    "            value = dict()\n",
    "            value['count'] = 0\n",
    "            for u in range(2,len(df.columns)):\n",
    "                value[df.columns[u]] = 0\n",
    "\n",
    "        for u in range(2,len(df.columns)):\n",
    "            value[df.columns[u]] = value[df.columns[u]] + int(df[df.columns[u]][i])\n",
    "        value['count'] = value['count'] + 1\n",
    "        #print('val new: ', valn)\n",
    "        mp[key] = value\n",
    "\n",
    "\n",
    "\n",
    "\n",
    "    "
   ]
  },
  {
   "cell_type": "code",
   "execution_count": 40,
   "metadata": {},
   "outputs": [
    {
     "name": "stdout",
     "output_type": "stream",
     "text": [
      "Monday at 00 is  0.0 0.0 0.0 0.0 0.0 0.0 0.0 0.0 53.0 51.53  \n",
      "Monday at 01 is  0.0 0.0 0.0 0.0 0.0 0.0 0.0 0.0 53.0 51.4  \n",
      "Monday at 02 is  0.0 0.0 0.0 0.0 0.0 0.0 0.0 0.0 53.0 51.59  \n",
      "Monday at 03 is  0.0 0.0 0.0 0.0 0.0 0.0 0.0 0.0 53.0 51.49  \n",
      "Monday at 04 is  0.0 0.0 0.0 0.0 0.0 0.0 0.0 0.0 53.0 50.45  \n",
      "Monday at 05 is  0.0 0.0 0.0 0.0 0.0 0.0 0.0 0.0 53.0 47.67  \n",
      "Monday at 06 is  0.0 0.0 0.0 0.0 0.0 0.0 0.0 0.0 53.0 42.54  \n",
      "Monday at 07 is  0.0 0.0 0.0 0.0 0.0 0.0 0.0 0.0 53.0 37.93  \n",
      "Monday at 08 is  0.0 0.0 0.0 0.0 0.0 0.0 0.0 0.0 53.0 37.1  \n",
      "Monday at 09 is  0.0 0.0 0.0 0.0 0.0 0.0 0.0 0.0 53.0 36.91  \n",
      "Monday at 10 is  0.0 0.0 0.0 0.0 0.0 0.0 0.0 0.0 53.0 36.69  \n",
      "Monday at 11 is  0.0 0.0 0.0 0.0 0.0 0.0 0.0 0.0 53.0 36.2  \n",
      "Monday at 12 is  0.0 0.0 0.0 0.0 0.0 0.0 0.0 0.0 53.0 36.14  \n",
      "Monday at 13 is  0.0 0.0 0.0 0.0 0.0 0.0 0.0 0.0 53.0 36.57  \n",
      "Monday at 14 is  0.0 0.0 0.0 0.0 0.0 0.0 0.0 0.0 53.0 37.05  \n",
      "Monday at 15 is  0.0 0.0 0.0 0.0 0.0 0.0 0.0 0.0 53.0 39.13  \n",
      "Monday at 16 is  0.0 0.0 0.0 0.0 0.0 0.0 0.0 0.0 53.0 41.1  \n",
      "Monday at 17 is  0.0 0.0 0.0 0.0 0.0 0.0 0.0 0.0 53.0 43.83  \n",
      "Monday at 18 is  0.0 0.0 0.0 0.0 0.0 0.0 0.0 0.0 53.0 44.88  \n",
      "Monday at 19 is  0.0 0.0 0.0 0.0 0.0 0.0 0.0 0.0 53.0 47.06  \n",
      "Monday at 20 is  0.0 0.0 0.0 0.0 0.0 0.0 0.0 0.0 53.0 48.91  \n",
      "Monday at 21 is  0.0 0.0 0.0 0.0 0.0 0.0 0.0 0.0 53.0 50.69  \n",
      "Monday at 22 is  0.0 0.0 0.0 0.0 0.0 0.0 0.0 0.0 53.0 51.53  \n",
      "Monday at 23 is  0.0 0.0 0.0 0.0 0.0 0.0 0.0 0.0 53.0 51.67  \n",
      "Tuesday at 00 is  0.0 0.0 0.0 0.0 0.0 0.0 0.0 0.0 53.0 51.81  \n",
      "Tuesday at 01 is  0.0 0.0 0.0 0.0 0.0 0.0 0.0 0.0 53.0 51.85  \n",
      "Tuesday at 02 is  0.0 0.0 0.0 0.0 0.0 0.0 0.0 0.0 53.0 51.89  \n",
      "Tuesday at 03 is  0.0 0.0 0.0 0.0 0.0 0.0 0.0 0.0 53.0 51.94  \n",
      "Tuesday at 04 is  0.0 0.0 0.0 0.0 0.0 0.0 0.0 0.0 53.0 51.16  \n",
      "Tuesday at 05 is  0.0 0.0 0.0 0.0 0.0 0.0 0.0 0.0 53.0 47.96  \n",
      "Tuesday at 06 is  0.0 0.0 0.0 0.0 0.0 0.0 0.0 0.0 53.0 42.59  \n",
      "Tuesday at 07 is  0.0 0.0 0.0 0.0 0.0 0.0 0.0 0.0 53.0 36.25  \n",
      "Tuesday at 08 is  0.0 0.0 0.0 0.0 0.0 0.0 0.0 0.0 53.0 34.9  \n",
      "Tuesday at 09 is  0.0 0.0 0.0 0.0 0.0 0.0 0.0 0.0 53.0 34.55  \n",
      "Tuesday at 10 is  0.0 0.0 0.0 0.0 0.0 0.0 0.0 0.0 53.0 34.26  \n",
      "Tuesday at 11 is  0.0 0.0 0.0 0.0 0.0 0.0 0.0 0.0 53.0 34.01  \n",
      "Tuesday at 12 is  0.0 0.0 0.0 0.0 0.0 0.0 0.0 0.0 53.0 34.2  \n",
      "Tuesday at 13 is  0.0 0.0 0.0 0.0 0.0 0.0 0.0 0.0 53.0 35.19  \n",
      "Tuesday at 14 is  0.0 0.0 0.0 0.0 0.0 0.0 0.0 0.0 53.0 37.31  \n",
      "Tuesday at 15 is  0.0 0.0 0.0 0.0 0.0 0.0 0.0 0.0 53.0 38.96  \n",
      "Tuesday at 16 is  0.0 0.0 0.0 0.0 0.0 0.0 0.0 0.0 53.0 40.64  \n",
      "Tuesday at 17 is  0.0 0.0 0.0 0.0 0.0 0.0 0.0 0.0 53.0 44.31  \n",
      "Tuesday at 18 is  0.0 0.0 0.0 0.0 0.0 0.0 0.0 0.0 53.0 46.35  \n",
      "Tuesday at 19 is  0.0 0.0 0.0 0.0 0.0 0.0 0.0 0.0 53.0 48.11  \n",
      "Tuesday at 20 is  0.0 0.0 0.0 0.0 0.0 0.0 0.0 0.0 53.0 48.8  \n",
      "Tuesday at 21 is  0.0 0.0 0.0 0.0 0.0 0.0 0.0 0.0 53.0 50.24  \n",
      "Tuesday at 22 is  0.0 0.0 0.0 0.0 0.0 0.0 0.0 0.0 53.0 51.21  \n",
      "Tuesday at 23 is  0.0 0.0 0.0 0.0 0.0 0.0 0.0 0.0 53.0 51.23  \n",
      "Wednesday at 00 is  0.0 0.0 0.0 0.0 0.0 0.0 0.0 0.0 53.0 51.31  \n",
      "Wednesday at 01 is  0.0 0.0 0.0 0.0 0.0 0.0 0.0 0.0 53.0 51.38  \n",
      "Wednesday at 02 is  0.0 0.0 0.0 0.0 0.0 0.0 0.0 0.0 53.0 51.41  \n",
      "Wednesday at 03 is  0.0 0.0 0.0 0.0 0.0 0.0 0.0 0.0 53.0 51.44  \n",
      "Wednesday at 04 is  0.0 0.0 0.0 0.0 0.0 0.0 0.0 0.0 53.0 50.59  \n",
      "Wednesday at 05 is  0.0 0.0 0.0 0.0 0.0 0.0 0.0 0.0 53.0 46.37  \n",
      "Wednesday at 06 is  0.0 0.0 0.0 0.0 0.0 0.0 0.0 0.0 53.0 40.97  \n",
      "Wednesday at 07 is  0.0 0.0 0.0 0.0 0.0 0.0 0.0 0.0 53.0 35.98  \n",
      "Wednesday at 08 is  0.0 0.0 0.0 0.0 0.0 0.0 0.0 0.0 53.0 34.83  \n",
      "Wednesday at 09 is  0.0 0.0 0.0 0.0 0.0 0.0 0.0 0.0 53.0 35.01  \n",
      "Wednesday at 10 is  0.0 0.0 0.0 0.0 0.0 0.0 0.0 0.0 53.0 34.86  \n",
      "Wednesday at 11 is  0.0 0.0 0.0 0.0 0.0 0.0 0.0 0.0 53.0 34.92  \n",
      "Wednesday at 12 is  0.0 0.0 0.0 0.0 0.0 0.0 0.0 0.0 53.0 34.8  \n",
      "Wednesday at 13 is  0.0 0.0 0.0 0.0 0.0 0.0 0.0 0.0 53.0 35.38  \n",
      "Wednesday at 14 is  0.0 0.0 0.0 0.0 0.0 0.0 0.0 0.0 53.0 36.49  \n",
      "Wednesday at 15 is  0.0 0.0 0.0 0.0 0.0 0.0 0.0 0.0 53.0 38.94  \n",
      "Wednesday at 16 is  0.0 0.0 0.0 0.0 0.0 0.0 0.0 0.0 53.0 41.46  \n",
      "Wednesday at 17 is  0.0 0.0 0.0 0.0 0.0 0.0 0.0 0.0 53.0 43.6  \n",
      "Wednesday at 18 is  0.0 0.0 0.0 0.0 0.0 0.0 0.0 0.0 53.02 44.85  \n",
      "Wednesday at 19 is  0.0 0.0 0.0 0.0 0.0 0.0 0.0 0.0 53.0 47.42  \n",
      "Wednesday at 20 is  0.0 0.0 0.0 0.0 0.0 0.0 0.0 0.0 53.0 48.76  \n",
      "Wednesday at 21 is  0.0 0.0 0.0 0.0 0.0 0.0 0.0 0.0 53.0 49.73  \n",
      "Wednesday at 22 is  0.0 0.0 0.0 0.0 0.0 0.0 0.0 0.0 53.0 50.15  \n",
      "Wednesday at 23 is  0.0 0.0 0.0 0.0 0.0 0.0 0.0 0.0 53.0 50.54  \n",
      "Thursday at 00 is  0.0 0.0 0.0 0.0 0.0 0.0 0.0 0.0 53.0 50.83  \n",
      "Thursday at 01 is  0.0 0.0 0.0 0.0 0.0 0.0 0.0 0.0 53.0 51.0  \n",
      "Thursday at 02 is  0.0 0.0 0.0 0.0 0.0 0.0 0.0 0.0 53.0 51.06  \n",
      "Thursday at 03 is  0.0 0.0 0.0 0.0 0.0 0.0 0.0 0.0 53.0 51.11  \n",
      "Thursday at 04 is  0.0 0.0 0.0 0.0 0.0 0.0 0.0 0.0 53.0 49.97  \n",
      "Thursday at 05 is  0.0 0.0 0.0 0.0 0.0 0.0 0.0 0.0 53.0 46.44  \n",
      "Thursday at 06 is  0.0 0.0 0.0 0.0 0.0 0.0 0.0 0.0 53.0 42.27  \n",
      "Thursday at 07 is  0.0 0.0 0.0 0.0 0.0 0.0 0.0 0.0 53.0 36.95  \n",
      "Thursday at 08 is  0.0 0.0 0.0 0.0 0.0 0.0 0.0 0.0 53.0 35.89  \n",
      "Thursday at 09 is  0.0 0.0 0.0 0.0 0.0 0.0 0.0 0.0 53.0 35.53  \n",
      "Thursday at 10 is  0.0 0.0 0.0 0.0 0.0 0.0 0.0 0.0 53.0 35.29  \n",
      "Thursday at 11 is  0.0 0.0 0.0 0.0 0.0 0.0 0.0 0.0 53.0 35.42  \n",
      "Thursday at 12 is  0.0 0.0 0.0 0.0 0.0 0.0 0.0 0.0 53.0 35.73  \n",
      "Thursday at 13 is  0.0 0.0 0.0 0.0 0.0 0.0 0.0 0.0 53.0 36.39  \n",
      "Thursday at 14 is  0.0 0.0 0.0 0.0 0.0 0.0 0.0 0.0 53.0 38.06  \n",
      "Thursday at 15 is  0.0 0.0 0.0 0.0 0.0 0.0 0.0 0.0 53.0 40.64  \n",
      "Thursday at 16 is  0.0 0.0 0.0 0.0 0.0 0.0 0.0 0.0 53.0 42.82  \n",
      "Thursday at 17 is  0.0 0.0 0.0 0.0 0.0 0.0 0.0 0.0 53.0 44.71  \n",
      "Thursday at 18 is  0.0 0.0 0.0 0.0 0.0 0.0 0.0 0.0 53.08 46.65  \n",
      "Thursday at 19 is  0.0 0.0 0.0 0.0 0.0 0.0 0.0 0.0 53.12 47.94  \n",
      "Thursday at 20 is  0.0 0.0 0.0 0.0 0.0 0.0 0.0 0.0 53.12 48.69  \n",
      "Thursday at 21 is  0.0 0.0 0.0 0.0 0.0 0.0 0.0 0.0 53.12 49.08  \n",
      "Thursday at 22 is  0.0 0.0 0.0 0.0 0.0 0.0 0.0 0.0 53.12 50.11  \n",
      "Thursday at 23 is  0.0 0.0 0.0 0.0 0.0 0.0 0.0 0.0 53.12 50.61  \n",
      "Friday at 00 is  0.0 0.0 0.0 0.0 0.0 0.0 0.0 0.0 53.12 50.64  \n",
      "Friday at 01 is  0.0 0.0 0.0 0.0 0.0 0.0 0.0 0.0 53.12 50.62  \n",
      "Friday at 02 is  0.0 0.0 0.0 0.0 0.0 0.0 0.0 0.0 53.12 50.74  \n",
      "Friday at 03 is  0.0 0.0 0.0 0.0 0.0 0.0 0.0 0.0 53.12 50.75  \n",
      "Friday at 04 is  0.0 0.0 0.0 0.0 0.0 0.0 0.0 0.0 53.12 49.84  \n",
      "Friday at 05 is  0.0 0.0 0.0 0.0 0.0 0.0 0.0 0.0 53.12 46.31  \n",
      "Friday at 06 is  0.0 0.0 0.0 0.0 0.0 0.0 0.0 0.0 53.12 41.85  \n",
      "Friday at 07 is  0.0 0.0 0.0 0.0 0.0 0.0 0.0 0.0 53.12 37.15  \n",
      "Friday at 08 is  0.0 0.0 0.0 0.0 0.0 0.0 0.0 0.0 53.12 35.8  \n",
      "Friday at 09 is  0.0 0.0 0.0 0.0 0.0 0.0 0.0 0.0 53.12 35.9  \n",
      "Friday at 10 is  0.0 0.0 0.0 0.0 0.0 0.0 0.0 0.0 53.12 36.03  \n",
      "Friday at 11 is  0.0 0.0 0.0 0.0 0.0 0.0 0.0 0.0 53.12 35.98  \n",
      "Friday at 12 is  0.0 0.0 0.0 0.0 0.0 0.0 0.0 0.0 53.09 37.4  \n",
      "Friday at 13 is  0.0 0.0 0.0 0.0 0.0 0.0 0.0 0.0 53.0 41.02  \n",
      "Friday at 14 is  0.0 0.0 0.0 0.0 0.0 0.0 0.0 0.0 53.0 43.6  \n",
      "Friday at 15 is  0.0 0.0 0.0 0.0 0.0 0.0 0.0 0.0 53.0 46.74  \n",
      "Friday at 16 is  0.0 0.0 0.0 0.0 0.0 0.0 0.0 0.0 53.0 47.64  \n",
      "Friday at 17 is  0.0 0.0 0.0 0.0 0.0 0.0 0.0 0.0 53.0 47.76  \n",
      "Friday at 18 is  0.0 0.0 0.0 0.0 0.0 0.0 0.0 0.0 53.0 47.02  \n",
      "Friday at 19 is  0.0 0.0 0.0 0.0 0.0 0.0 0.0 0.0 53.0 48.2  \n",
      "Friday at 20 is  0.0 0.0 0.0 0.0 0.0 0.0 0.0 0.0 53.0 48.61  \n",
      "Friday at 21 is  0.0 0.0 0.0 0.0 0.0 0.0 0.0 0.0 53.0 49.61  \n",
      "Friday at 22 is  0.0 0.0 0.0 0.0 0.0 0.0 0.0 0.0 53.0 50.27  \n",
      "Friday at 23 is  0.0 0.0 0.0 0.0 0.0 0.0 0.0 0.0 53.0 50.94  \n",
      "Saturday at 00 is  0.0 0.0 0.0 0.0 0.0 0.0 0.0 0.0 53.0 51.23  \n",
      "Saturday at 01 is  0.0 0.0 0.0 0.0 0.0 0.0 0.0 0.0 53.0 51.4  \n",
      "Saturday at 02 is  0.0 0.0 0.0 0.0 0.0 0.0 0.0 0.0 53.0 51.75  \n",
      "Saturday at 03 is  0.0 0.0 0.0 0.0 0.0 0.0 0.0 0.0 53.0 51.75  \n",
      "Saturday at 04 is  0.0 0.0 0.0 0.0 0.0 0.0 0.0 0.0 53.0 51.54  \n",
      "Saturday at 05 is  0.0 0.0 0.0 0.0 0.0 0.0 0.0 0.0 53.0 51.16  \n",
      "Saturday at 06 is  0.0 0.0 0.0 0.0 0.0 0.0 0.0 0.0 53.0 50.82  \n",
      "Saturday at 07 is  0.0 0.0 0.0 0.0 0.0 0.0 0.0 0.0 53.0 50.12  \n",
      "Saturday at 08 is  0.0 0.0 0.0 0.0 0.0 0.0 0.0 0.0 53.0 49.39  \n",
      "Saturday at 09 is  0.0 0.0 0.0 0.0 0.0 0.0 0.0 0.0 53.0 48.82  \n",
      "Saturday at 10 is  0.0 0.0 0.0 0.0 0.0 0.0 0.0 0.0 53.0 48.64  \n",
      "Saturday at 11 is  0.0 0.0 0.0 0.0 0.0 0.0 0.0 0.0 53.0 48.26  \n",
      "Saturday at 12 is  0.0 0.0 0.0 0.0 0.0 0.0 0.0 0.0 53.0 48.08  \n",
      "Saturday at 13 is  0.0 0.0 0.0 0.0 0.0 0.0 0.0 0.0 53.0 48.07  \n",
      "Saturday at 14 is  0.0 0.0 0.0 0.0 0.0 0.0 0.0 0.0 53.0 47.95  \n",
      "Saturday at 15 is  0.0 0.0 0.0 0.0 0.0 0.0 0.0 0.0 53.0 47.46  \n",
      "Saturday at 16 is  0.0 0.0 0.0 0.0 0.0 0.0 0.0 0.0 53.0 47.34  \n",
      "Saturday at 17 is  0.0 0.0 0.0 0.0 0.0 0.0 0.0 0.0 53.0 46.88  \n",
      "Saturday at 18 is  0.0 0.0 0.0 0.0 0.0 0.0 0.0 0.0 53.0 46.71  \n",
      "Saturday at 19 is  0.0 0.0 0.0 0.0 0.0 0.0 0.0 0.0 53.0 47.46  \n",
      "Saturday at 20 is  0.0 0.0 0.0 0.0 0.0 0.0 0.0 0.0 53.0 48.52  \n",
      "Saturday at 21 is  0.0 0.0 0.0 0.0 0.0 0.0 0.0 0.0 53.0 49.03  \n",
      "Saturday at 22 is  0.0 0.0 0.0 0.0 0.0 0.0 0.0 0.0 53.0 49.59  \n",
      "Saturday at 23 is  0.0 0.0 0.0 0.0 0.0 0.0 0.0 0.0 53.0 50.24  \n",
      "Sunday at 00 is  0.0 0.0 0.0 0.0 0.0 0.0 0.0 0.0 53.0 50.5  \n",
      "Sunday at 01 is  0.0 0.0 0.0 0.0 0.0 0.0 0.0 0.0 53.0 50.53  \n",
      "Sunday at 02 is  0.0 0.0 0.0 0.0 0.0 0.0 0.0 0.0 53.0 50.55  \n",
      "Sunday at 03 is  0.0 0.0 0.0 0.0 0.0 0.0 0.0 0.0 53.0 50.51  \n",
      "Sunday at 04 is  0.0 0.0 0.0 0.0 0.0 0.0 0.0 0.0 53.0 50.56  \n",
      "Sunday at 05 is  0.0 0.0 0.0 0.0 0.0 0.0 0.0 0.0 53.0 50.25  \n",
      "Sunday at 06 is  0.0 0.0 0.0 0.0 0.0 0.0 0.0 0.0 53.0 50.28  \n",
      "Sunday at 07 is  0.0 0.0 0.0 0.0 0.0 0.0 0.0 0.0 53.0 50.24  \n",
      "Sunday at 08 is  0.0 0.0 0.0 0.0 0.0 0.0 0.0 0.0 53.0 50.01  \n",
      "Sunday at 09 is  0.0 0.0 0.0 0.0 0.0 0.0 0.0 0.0 53.0 50.02  \n",
      "Sunday at 10 is  0.0 0.0 0.0 0.0 0.0 0.0 0.0 0.0 53.0 49.96  \n",
      "Sunday at 11 is  0.0 0.0 0.0 0.0 0.0 0.0 0.0 0.0 53.0 50.04  \n",
      "Sunday at 12 is  0.0 0.0 0.0 0.0 0.0 0.0 0.0 0.0 53.0 49.81  \n",
      "Sunday at 13 is  0.0 0.0 0.0 0.0 0.0 0.0 0.0 0.0 53.0 49.88  \n",
      "Sunday at 14 is  0.0 0.0 0.0 0.0 0.0 0.0 0.0 0.0 53.0 49.8  \n",
      "Sunday at 15 is  0.0 0.0 0.0 0.0 0.0 0.0 0.0 0.0 53.0 49.71  \n",
      "Sunday at 16 is  0.0 0.0 0.0 0.0 0.0 0.0 0.0 0.0 53.0 49.47  \n",
      "Sunday at 17 is  0.0 0.0 0.0 0.0 0.0 0.0 0.0 0.0 53.0 49.56  \n",
      "Sunday at 18 is  0.0 0.0 0.0 0.0 0.0 0.0 0.0 0.0 53.0 49.88  \n",
      "Sunday at 19 is  0.0 0.0 0.0 0.0 0.0 0.0 0.0 0.0 53.0 49.85  \n",
      "Sunday at 20 is  0.0 0.0 0.0 0.0 0.0 0.0 0.0 0.0 53.0 50.29  \n",
      "Sunday at 21 is  0.0 0.0 0.0 0.0 0.0 0.0 0.0 0.0 53.0 50.59  \n",
      "Sunday at 22 is  0.0 0.0 0.0 0.0 0.0 0.0 0.0 0.0 53.0 51.16  \n",
      "Sunday at 23 is  0.0 0.0 0.0 0.0 0.0 0.0 0.0 0.0 53.0 51.54  \n"
     ]
    }
   ],
   "source": [
    "colums_to_show = [\n",
    "    'Gesamt Familienparkplaetze',\n",
    "    'Freie Familienparkplaetze',\n",
    "    'Gesamt Frauenparkplaetze',\n",
    "    'Freie Frauenparkplaetze',\n",
    "    'Gesamt Behindertenparkplaetze',\n",
    "    'Freie Behindertenparkplaetze',\n",
    "    'Gesamt E-mobility Parkplaetze',\n",
    "    'Freie E-mobility Parkplaetze',\n",
    "    'Gesamt Standardparkplaetze',\n",
    "    'Freie Standardparkplaetze'\n",
    "]\n",
    "\n",
    "\n",
    "order_show = [\n",
    "    'Monday',\n",
    "    'Tuesday',\n",
    "    'Wednesday',\n",
    "    'Thursday',\n",
    "    'Friday',\n",
    "    'Saturday',\n",
    "    'Sunday'\n",
    "];\n",
    "\n",
    "for key in order_show:\n",
    "    for hour in range(24):\n",
    "        nkey = key + \" at \" + (str(hour).zfill(2))\n",
    "        print(nkey  + \" is \" , end = ' ')\n",
    "        for col in colums_to_show:\n",
    "            avg = float(mp[nkey][col]) / float(mp[nkey]['count'])\n",
    "            print( round(avg, 2) , end = ' ')\n",
    "        print(' ')\n",
    "            "
   ]
  },
  {
   "cell_type": "code",
   "execution_count": 34,
   "metadata": {},
   "outputs": [
    {
     "data": {
      "text/plain": [
       "'     tara'"
      ]
     },
     "execution_count": 34,
     "metadata": {},
     "output_type": "execute_result"
    }
   ],
   "source": [
    "\"tara\".rjust(9 , ' ')"
   ]
  },
  {
   "cell_type": "code",
   "execution_count": null,
   "metadata": {},
   "outputs": [],
   "source": []
  }
 ],
 "metadata": {
  "kernelspec": {
   "display_name": "Python 3",
   "language": "python",
   "name": "python3"
  },
  "language_info": {
   "codemirror_mode": {
    "name": "ipython",
    "version": 3
   },
   "file_extension": ".py",
   "mimetype": "text/x-python",
   "name": "python",
   "nbconvert_exporter": "python",
   "pygments_lexer": "ipython3",
   "version": "3.5.2"
  }
 },
 "nbformat": 4,
 "nbformat_minor": 2
}
