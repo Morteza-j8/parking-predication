{
 "cells": [
  {
   "cell_type": "code",
   "execution_count": 1,
   "metadata": {},
   "outputs": [],
   "source": [
    "import pandas as pd\n",
    "\n",
    "df = pd.read_excel('data.xlsx')\n",
    "\n"
   ]
  },
  {
   "cell_type": "code",
   "execution_count": 2,
   "metadata": {},
   "outputs": [
    {
     "name": "stdout",
     "output_type": "stream",
     "text": [
      "Column headings:\n",
      "Index(['PR_Anlage_ID', 'Datum/Uhrzeit', 'Freie Parkplaetze',\n",
      "       'Gesamtzahl Parkplaetze', 'Besetzte Parkplaetze',\n",
      "       'Gesamt Familienparkplaetze', 'Freie Familienparkplaetze',\n",
      "       'Gesamt Frauenparkplaetze', 'Freie Frauenparkplaetze',\n",
      "       'Gesamt Behindertenparkplaetze', 'Freie Behindertenparkplaetze',\n",
      "       'Gesamt E-mobility Parkplaetze', 'Freie E-mobility Parkplaetze',\n",
      "       'Gesamt Standardparkplaetze', 'Freie Standardparkplaetze'],\n",
      "      dtype='object')\n"
     ]
    }
   ],
   "source": [
    "print(\"Column headings:\")\n",
    "print(df.columns)"
   ]
  },
  {
   "cell_type": "code",
   "execution_count": null,
   "metadata": {},
   "outputs": [],
   "source": []
  },
  {
   "cell_type": "code",
   "execution_count": 3,
   "metadata": {},
   "outputs": [
    {
     "name": "stdout",
     "output_type": "stream",
     "text": [
      "PR_Anlage_ID\n",
      "Datum/Uhrzeit\n",
      "Freie Parkplaetze\n",
      "Gesamtzahl Parkplaetze\n",
      "Besetzte Parkplaetze\n",
      "Gesamt Familienparkplaetze\n",
      "Freie Familienparkplaetze\n",
      "Gesamt Frauenparkplaetze\n",
      "Freie Frauenparkplaetze\n",
      "Gesamt Behindertenparkplaetze\n",
      "Freie Behindertenparkplaetze\n",
      "Gesamt E-mobility Parkplaetze\n",
      "Freie E-mobility Parkplaetze\n",
      "Gesamt Standardparkplaetze\n",
      "Freie Standardparkplaetze\n"
     ]
    }
   ],
   "source": [
    "for u in range(len(df.columns)):\n",
    "    print(df.columns[u])"
   ]
  },
  {
   "cell_type": "code",
   "execution_count": 4,
   "metadata": {},
   "outputs": [
    {
     "data": {
      "text/plain": [
       "3"
      ]
     },
     "execution_count": 4,
     "metadata": {},
     "output_type": "execute_result"
    }
   ],
   "source": [
    "df['Datum/Uhrzeit'][0].weekday()"
   ]
  },
  {
   "cell_type": "code",
   "execution_count": 5,
   "metadata": {},
   "outputs": [
    {
     "data": {
      "text/plain": [
       "40"
      ]
     },
     "execution_count": 5,
     "metadata": {},
     "output_type": "execute_result"
    }
   ],
   "source": [
    "df['Datum/Uhrzeit'][0].time().minute"
   ]
  },
  {
   "cell_type": "code",
   "execution_count": 6,
   "metadata": {},
   "outputs": [
    {
     "data": {
      "text/plain": [
       "RangeIndex(start=0, stop=34280, step=1)"
      ]
     },
     "execution_count": 6,
     "metadata": {},
     "output_type": "execute_result"
    }
   ],
   "source": [
    "df.index"
   ]
  },
  {
   "cell_type": "code",
   "execution_count": 22,
   "metadata": {},
   "outputs": [],
   "source": [
    "mp = dict()\n",
    "\n",
    "for i in df.index:\n",
    "    if df['PR_Anlage_ID'][i] == 1:\n",
    "        \n",
    "        minute = '';\n",
    "        hour = '';\n",
    "        \n",
    "        \n",
    "        if df['Datum/Uhrzeit'][i].time().hour < 10:\n",
    "            hour = '0'\n",
    "        hour = hour + str(df['Datum/Uhrzeit'][i].time().hour)\n",
    "        \n",
    "        if df['Datum/Uhrzeit'][i].time().minute < 10:\n",
    "            minute = '0'\n",
    "        minute = minute + str(df['Datum/Uhrzeit'][i].time().minute)\n",
    "        \n",
    "        \n",
    "        key = str(df['Datum/Uhrzeit'][i].weekday()) + \"-\" + hour + \":\" + minute\n",
    "        \n",
    "        if key in mp:\n",
    "            value = mp[key]\n",
    "        else:\n",
    "            value = (0,0)\n",
    "\n",
    "        valn = int(value[1] + df['Freie Parkplaetze'][i])\n",
    "        #print('val new: ', valn)\n",
    "        mp[key] = (value[0] + 1,  valn)\n",
    "\n",
    "\n",
    "\n",
    "\n",
    "    "
   ]
  },
  {
   "cell_type": "code",
   "execution_count": 26,
   "metadata": {},
   "outputs": [
    {
     "ename": "TypeError",
     "evalue": "unsupported operand type(s) for /: 'tuple' and 'str'",
     "output_type": "error",
     "traceback": [
      "\u001b[0;31m---------------------------------------------------------------------------\u001b[0m",
      "\u001b[0;31mTypeError\u001b[0m                                 Traceback (most recent call last)",
      "\u001b[0;32m<ipython-input-26-08de9ab2942e>\u001b[0m in \u001b[0;36m<module>\u001b[0;34m\u001b[0m\n\u001b[1;32m      1\u001b[0m \u001b[0;32mfor\u001b[0m \u001b[0mkey\u001b[0m \u001b[0;32min\u001b[0m \u001b[0msorted\u001b[0m\u001b[0;34m(\u001b[0m\u001b[0mmp\u001b[0m\u001b[0;34m)\u001b[0m\u001b[0;34m:\u001b[0m\u001b[0;34m\u001b[0m\u001b[0m\n\u001b[0;32m----> 2\u001b[0;31m     \u001b[0mprint\u001b[0m\u001b[0;34m(\u001b[0m\u001b[0;34m'key: '\u001b[0m \u001b[0;34m,\u001b[0m \u001b[0mkey\u001b[0m \u001b[0;34m,\u001b[0m \u001b[0;34m\" -> \"\u001b[0m \u001b[0;34m,\u001b[0m \u001b[0mmp\u001b[0m\u001b[0;34m[\u001b[0m\u001b[0mkey\u001b[0m\u001b[0;34m]\u001b[0m\u001b[0;34m,\u001b[0m \u001b[0;34m' avrage: '\u001b[0m \u001b[0;34m,\u001b[0m \u001b[0mfloat\u001b[0m\u001b[0;34m(\u001b[0m\u001b[0mmp\u001b[0m\u001b[0;34m[\u001b[0m\u001b[0mkey\u001b[0m\u001b[0;34m]\u001b[0m\u001b[0;34m/\u001b[0m\u001b[0mkey\u001b[0m\u001b[0;34m)\u001b[0m\u001b[0;34m)\u001b[0m\u001b[0;34m\u001b[0m\u001b[0m\n\u001b[0m",
      "\u001b[0;31mTypeError\u001b[0m: unsupported operand type(s) for /: 'tuple' and 'str'"
     ]
    }
   ],
   "source": [
    "for key in sorted(mp):\n",
    "    print('key: ' , key , \" -> \" , mp[key], ' avrage: ' , float(mp[key])/key))"
   ]
  },
  {
   "cell_type": "code",
   "execution_count": 18,
   "metadata": {},
   "outputs": [
    {
     "ename": "AttributeError",
     "evalue": "'tuple' object has no attribute 'shape'",
     "output_type": "error",
     "traceback": [
      "\u001b[0;31m---------------------------------------------------------------------------\u001b[0m",
      "\u001b[0;31mAttributeError\u001b[0m                            Traceback (most recent call last)",
      "\u001b[0;32m<ipython-input-18-b14ee2003298>\u001b[0m in \u001b[0;36m<module>\u001b[0;34m\u001b[0m\n\u001b[0;32m----> 1\u001b[0;31m \u001b[0mmp\u001b[0m\u001b[0;34m[\u001b[0m\u001b[0;34m'1-23:25'\u001b[0m\u001b[0;34m]\u001b[0m\u001b[0;34m.\u001b[0m\u001b[0mshape\u001b[0m\u001b[0;34m\u001b[0m\u001b[0m\n\u001b[0m",
      "\u001b[0;31mAttributeError\u001b[0m: 'tuple' object has no attribute 'shape'"
     ]
    }
   ],
   "source": [
    "mp['1-23:25'][]"
   ]
  },
  {
   "cell_type": "code",
   "execution_count": null,
   "metadata": {},
   "outputs": [],
   "source": []
  }
 ],
 "metadata": {
  "kernelspec": {
   "display_name": "Python 3",
   "language": "python",
   "name": "python3"
  },
  "language_info": {
   "codemirror_mode": {
    "name": "ipython",
    "version": 3
   },
   "file_extension": ".py",
   "mimetype": "text/x-python",
   "name": "python",
   "nbconvert_exporter": "python",
   "pygments_lexer": "ipython3",
   "version": "3.5.2"
  }
 },
 "nbformat": 4,
 "nbformat_minor": 2
}
