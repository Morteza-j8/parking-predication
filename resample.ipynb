{
 "cells": [
  {
   "cell_type": "code",
   "execution_count": 1,
   "metadata": {},
   "outputs": [],
   "source": [
    "import pandas as pd"
   ]
  },
  {
   "cell_type": "code",
   "execution_count": 20,
   "metadata": {},
   "outputs": [],
   "source": [
    "df = pd.read_excel('data.xlsx')\n",
    "\n",
    "# applying filter function  \n",
    "df = df.filter([\"PR_Anlage_ID\", \"Datum/Uhrzeit\", \"Freie Parkplaetze\"]) \n"
   ]
  },
  {
   "cell_type": "code",
   "execution_count": 21,
   "metadata": {},
   "outputs": [],
   "source": [
    "df = df.loc[df['PR_Anlage_ID'] == 1]"
   ]
  },
  {
   "cell_type": "code",
   "execution_count": 22,
   "metadata": {},
   "outputs": [],
   "source": [
    "df['Datum/Uhrzeit'] = pd.to_datetime(df['Datum/Uhrzeit']).dt.strftime('%A %H:%M')\n",
    "#if necessary remove trailing '\n",
    "#df['Date'] = pd.to_datetime(df['Date'].str.strip(\"'\")).dt.strftime('%A %H:%M')\n",
    "\n",
    "df = df.groupby('Datum/Uhrzeit', sort=True)['Freie Parkplaetze'].agg(['sum','count', 'mean'])"
   ]
  },
  {
   "cell_type": "code",
   "execution_count": 27,
   "metadata": {},
   "outputs": [],
   "source": [
    "df.to_excel(r'resample.xlsx', index=True, header =True)"
   ]
  }
 ],
 "metadata": {
  "kernelspec": {
   "display_name": "Python 3",
   "language": "python",
   "name": "python3"
  },
  "language_info": {
   "codemirror_mode": {
    "name": "ipython",
    "version": 3
   },
   "file_extension": ".py",
   "mimetype": "text/x-python",
   "name": "python",
   "nbconvert_exporter": "python",
   "pygments_lexer": "ipython3",
   "version": "3.5.2"
  }
 },
 "nbformat": 4,
 "nbformat_minor": 2
}
