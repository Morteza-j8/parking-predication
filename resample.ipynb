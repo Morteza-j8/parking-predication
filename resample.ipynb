{
 "cells": [
  {
   "cell_type": "code",
   "execution_count": 28,
   "metadata": {},
   "outputs": [],
   "source": [
    "import pandas as pd"
   ]
  },
  {
   "cell_type": "code",
   "execution_count": 38,
   "metadata": {},
   "outputs": [],
   "source": [
    "df = pd.read_excel('data.xlsx')\n",
    "\n",
    "# applying filter function  \n",
    "df = df.filter([\"PR_Anlage_ID\", \"Datum/Uhrzeit\", \"Freie Parkplaetze\"]) \n"
   ]
  },
  {
   "cell_type": "code",
   "execution_count": 39,
   "metadata": {},
   "outputs": [],
   "source": [
    "df = df.loc[df['PR_Anlage_ID'] == 1]"
   ]
  },
  {
   "cell_type": "code",
   "execution_count": 40,
   "metadata": {},
   "outputs": [],
   "source": [
    "#df['Datum/Uhrzeit'] = pd.to_datetime(df['Datum/Uhrzeit']).dt.strftime('%A %H:%M')\n",
    "df['Datum/Uhrzeit'] = pd.to_datetime(df['Datum/Uhrzeit']).dt.strftime('%A')\n",
    "\n",
    "\n",
    "df = df.groupby('Datum/Uhrzeit', sort=True)['Freie Parkplaetze'].agg(['sum','count', 'mean'])"
   ]
  },
  {
   "cell_type": "code",
   "execution_count": 41,
   "metadata": {},
   "outputs": [
    {
     "data": {
      "text/html": [
       "<div>\n",
       "<style scoped>\n",
       "    .dataframe tbody tr th:only-of-type {\n",
       "        vertical-align: middle;\n",
       "    }\n",
       "\n",
       "    .dataframe tbody tr th {\n",
       "        vertical-align: top;\n",
       "    }\n",
       "\n",
       "    .dataframe thead th {\n",
       "        text-align: right;\n",
       "    }\n",
       "</style>\n",
       "<table border=\"1\" class=\"dataframe\">\n",
       "  <thead>\n",
       "    <tr style=\"text-align: right;\">\n",
       "      <th></th>\n",
       "      <th>sum</th>\n",
       "      <th>count</th>\n",
       "      <th>mean</th>\n",
       "    </tr>\n",
       "    <tr>\n",
       "      <th>Datum/Uhrzeit</th>\n",
       "      <th></th>\n",
       "      <th></th>\n",
       "      <th></th>\n",
       "    </tr>\n",
       "  </thead>\n",
       "  <tbody>\n",
       "    <tr>\n",
       "      <th>Friday</th>\n",
       "      <td>103721</td>\n",
       "      <td>2304</td>\n",
       "      <td>45.017795</td>\n",
       "    </tr>\n",
       "    <tr>\n",
       "      <th>Monday</th>\n",
       "      <td>112735</td>\n",
       "      <td>2558</td>\n",
       "      <td>44.071540</td>\n",
       "    </tr>\n",
       "    <tr>\n",
       "      <th>Saturday</th>\n",
       "      <td>113492</td>\n",
       "      <td>2304</td>\n",
       "      <td>49.258681</td>\n",
       "    </tr>\n",
       "    <tr>\n",
       "      <th>Sunday</th>\n",
       "      <td>115680</td>\n",
       "      <td>2304</td>\n",
       "      <td>50.208333</td>\n",
       "    </tr>\n",
       "    <tr>\n",
       "      <th>Thursday</th>\n",
       "      <td>109056</td>\n",
       "      <td>2493</td>\n",
       "      <td>43.744886</td>\n",
       "    </tr>\n",
       "    <tr>\n",
       "      <th>Tuesday</th>\n",
       "      <td>113371</td>\n",
       "      <td>2592</td>\n",
       "      <td>43.738812</td>\n",
       "    </tr>\n",
       "    <tr>\n",
       "      <th>Wednesday</th>\n",
       "      <td>112448</td>\n",
       "      <td>2592</td>\n",
       "      <td>43.382716</td>\n",
       "    </tr>\n",
       "  </tbody>\n",
       "</table>\n",
       "</div>"
      ],
      "text/plain": [
       "                  sum  count       mean\n",
       "Datum/Uhrzeit                          \n",
       "Friday         103721   2304  45.017795\n",
       "Monday         112735   2558  44.071540\n",
       "Saturday       113492   2304  49.258681\n",
       "Sunday         115680   2304  50.208333\n",
       "Thursday       109056   2493  43.744886\n",
       "Tuesday        113371   2592  43.738812\n",
       "Wednesday      112448   2592  43.382716"
      ]
     },
     "execution_count": 41,
     "metadata": {},
     "output_type": "execute_result"
    }
   ],
   "source": [
    "df"
   ]
  },
  {
   "cell_type": "code",
   "execution_count": 42,
   "metadata": {},
   "outputs": [],
   "source": [
    "df.to_excel(r'resample-week.xlsx', index=True, header =True)"
   ]
  },
  {
   "cell_type": "code",
   "execution_count": null,
   "metadata": {},
   "outputs": [],
   "source": []
  }
 ],
 "metadata": {
  "kernelspec": {
   "display_name": "Python 3",
   "language": "python",
   "name": "python3"
  },
  "language_info": {
   "codemirror_mode": {
    "name": "ipython",
    "version": 3
   },
   "file_extension": ".py",
   "mimetype": "text/x-python",
   "name": "python",
   "nbconvert_exporter": "python",
   "pygments_lexer": "ipython3",
   "version": "3.5.2"
  }
 },
 "nbformat": 4,
 "nbformat_minor": 2
}
